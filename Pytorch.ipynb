{
  "nbformat": 4,
  "nbformat_minor": 0,
  "metadata": {
    "colab": {
      "name": "Pytorch.ipynb",
      "provenance": []
    },
    "kernelspec": {
      "name": "python3",
      "display_name": "Python 3"
    }
  },
  "cells": [
    {
      "cell_type": "markdown",
      "metadata": {
        "id": "6oerr0f0uFyu"
      },
      "source": [
        "# **Làm quen với pytorch**\r\n",
        "## INTRODUCTION\r\n",
        "PyTorch là một framework được xây dựng dựa trên python cung cấp nền tảng tính toán khoa học phục vụ lĩnh vực Deep learning. Pytorch tập trung vào 2 khả năng chính:\r\n",
        "\r\n",
        "> Một sự thay thế cho bộ thư viện numpy để tận dụng sức mạnh tính toán của GPU.\r\n",
        "\r\n",
        "> Một platform Deep learning phục vụ trong nghiên cứu, mang lại sự linh hoạt và tốc độ.\r\n"
      ]
    },
    {
      "cell_type": "markdown",
      "metadata": {
        "id": "D8qzIb7ZvFvr"
      },
      "source": [
        "# **Ma trận**\r\n",
        "- Trong pytorch, ma trận(mảng) được gọi là các tensors.\r\n",
        "- Ma trận 2 chiều 3 * 3 được gọi là 3 * 3 tensor.\r\n"
      ]
    },
    {
      "cell_type": "code",
      "metadata": {
        "colab": {
          "base_uri": "https://localhost:8080/"
        },
        "id": "pTMX7tcdvlFr",
        "outputId": "1057f924-6f82-49d5-c786-991d8c249e8c"
      },
      "source": [
        "# import pytorch library\r\n",
        "import torch\r\n",
        "\r\n",
        "# pytorch array\r\n",
        "tensor = torch.Tensor(array)\r\n",
        "print(\"Array Type: {}\".format(tensor.type)) # type\r\n",
        "print(\"Array Shape: {}\".format(tensor.shape)) # shape\r\n",
        "print(tensor)"
      ],
      "execution_count": 2,
      "outputs": [
        {
          "output_type": "stream",
          "text": [
            "Array Type: <built-in method type of Tensor object at 0x7ffa653a19d8>\n",
            "Array Shape: torch.Size([2, 3])\n",
            "tensor([[1., 2., 3.],\n",
            "        [4., 5., 6.]])\n"
          ],
          "name": "stdout"
        }
      ]
    },
    {
      "cell_type": "markdown",
      "metadata": {
        "id": "7XwJlbGPy2iY"
      },
      "source": [
        "Phân phối là một trong những kĩ thuật được sử dụng nhiều nhất trong coding. Hãy cùng xem cách làm nó trong pytorch.\r\n",
        "\r\n",
        "Hãy cùng so sánh numpy và tensor:\r\n",
        "\r\n",
        "- np.ones() = torch.ones()\r\n",
        "- np.random.rand() = torch.rand()\r\n",
        "\r\n"
      ]
    },
    {
      "cell_type": "code",
      "metadata": {
        "colab": {
          "base_uri": "https://localhost:8080/"
        },
        "id": "cAtEiSKxy2RL",
        "outputId": "5c4c5478-1db7-4c6a-f7ee-834cf50e83f3"
      },
      "source": [
        "import numpy as np\r\n",
        "# numpy ones\r\n",
        "print(\"Numpy {}\\n\".format(np.ones((2,3))))\r\n",
        "\r\n",
        "# pytorch ones\r\n",
        "print(torch.ones((2,3)))"
      ],
      "execution_count": 4,
      "outputs": [
        {
          "output_type": "stream",
          "text": [
            "Numpy [[1. 1. 1.]\n",
            " [1. 1. 1.]]\n",
            "\n",
            "tensor([[1., 1., 1.],\n",
            "        [1., 1., 1.]])\n"
          ],
          "name": "stdout"
        }
      ]
    },
    {
      "cell_type": "markdown",
      "metadata": {
        "id": "sBqhFiJyzWi6"
      },
      "source": [
        "Với random:"
      ]
    },
    {
      "cell_type": "code",
      "metadata": {
        "colab": {
          "base_uri": "https://localhost:8080/"
        },
        "id": "f0NPDu_nyDE9",
        "outputId": "9b5704c8-2088-475b-afd8-217157622672"
      },
      "source": [
        "# numpy random\r\n",
        "print(\"Numpy {}\\n\".format(np.random.rand(2,3)))\r\n",
        "\r\n",
        "# pytorch random\r\n",
        "print(torch.rand(2,3))"
      ],
      "execution_count": 5,
      "outputs": [
        {
          "output_type": "stream",
          "text": [
            "Numpy [[0.05638909 0.88132194 0.67155601]\n",
            " [0.83509149 0.36023409 0.30113162]]\n",
            "\n",
            "tensor([[0.0267, 0.4493, 0.7886],\n",
            "        [0.8308, 0.4960, 0.1764]])\n"
          ],
          "name": "stdout"
        }
      ]
    },
    {
      "cell_type": "markdown",
      "metadata": {
        "id": "JBQ1HLx5zsIA"
      },
      "source": [
        "**Toán học cơ bản với pytorch**\r\n",
        "\r\n",
        "* Resize: view()\r\n",
        "* a và b là tensor.\r\n",
        "* Phép cộng: torch.add(a,b) = a + b\r\n",
        "* Phép trừ: a.sub(b) = a - b\r\n",
        "* Phép nhân tương ứng từng phần tử: torch.mul(a,b) = a * b\r\n",
        "* Phép chia tương ứng từng phần tử: torch.div(a,b) = a / b\r\n",
        "* Mean: a.mean()\r\n",
        "* Độ lệch tiêu chuẩn (std): a.std()\r\n",
        "\r\n"
      ]
    },
    {
      "cell_type": "code",
      "metadata": {
        "colab": {
          "base_uri": "https://localhost:8080/"
        },
        "id": "8ZsbgcqmzfRI",
        "outputId": "d14d9b45-dbf0-41bd-e061-6fe442538ba9"
      },
      "source": [
        "# create tensor \r\n",
        "tensor = torch.ones(3,3)\r\n",
        "print(\"\\n\",tensor)\r\n",
        "\r\n",
        "# Resize\r\n",
        "print(\"{}{}\\n\".format(tensor.view(9).shape,tensor.view(9)))\r\n",
        "\r\n",
        "# Addition\r\n",
        "print(\"Addition: {}\\n\".format(torch.add(tensor,tensor)))\r\n",
        "\r\n",
        "# Subtraction\r\n",
        "print(\"Subtraction: {}\\n\".format(tensor.sub(tensor)))\r\n",
        "\r\n",
        "# Element wise multiplication\r\n",
        "print(\"Element wise multiplication: {}\\n\".format(torch.mul(tensor,tensor)))\r\n",
        "\r\n",
        "# Element wise division\r\n",
        "print(\"Element wise division: {}\\n\".format(torch.div(tensor,tensor)))\r\n",
        "\r\n",
        "# Mean\r\n",
        "tensor = torch.Tensor([1,2,3,4,5])\r\n",
        "print(\"Mean: {}\".format(tensor.mean()))\r\n",
        "\r\n",
        "# Standart deviation (std)\r\n",
        "print(\"std: {}\".format(tensor.std()))"
      ],
      "execution_count": 6,
      "outputs": [
        {
          "output_type": "stream",
          "text": [
            "\n",
            " tensor([[1., 1., 1.],\n",
            "        [1., 1., 1.],\n",
            "        [1., 1., 1.]])\n",
            "torch.Size([9])tensor([1., 1., 1., 1., 1., 1., 1., 1., 1.])\n",
            "\n",
            "Addition: tensor([[2., 2., 2.],\n",
            "        [2., 2., 2.],\n",
            "        [2., 2., 2.]])\n",
            "\n",
            "Subtraction: tensor([[0., 0., 0.],\n",
            "        [0., 0., 0.],\n",
            "        [0., 0., 0.]])\n",
            "\n",
            "Element wise multiplication: tensor([[1., 1., 1.],\n",
            "        [1., 1., 1.],\n",
            "        [1., 1., 1.]])\n",
            "\n",
            "Element wise division: tensor([[1., 1., 1.],\n",
            "        [1., 1., 1.],\n",
            "        [1., 1., 1.]])\n",
            "\n",
            "Mean: 3.0\n",
            "std: 1.5811388492584229\n"
          ],
          "name": "stdout"
        }
      ]
    }
  ]
}